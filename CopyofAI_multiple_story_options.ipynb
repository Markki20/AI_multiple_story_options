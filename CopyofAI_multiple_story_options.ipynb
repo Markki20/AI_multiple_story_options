{
  "nbformat": 4,
  "nbformat_minor": 0,
  "metadata": {
    "colab": {
      "provenance": [],
      "gpuType": "T4"
    },
    "kernelspec": {
      "name": "python3",
      "display_name": "Python 3"
    },
    "language_info": {
      "name": "python"
    },
    "accelerator": "GPU"
  },
  "cells": [
    {
      "cell_type": "code",
      "source": [
        "# AI generates multiple story options\n",
        "from transformers import pipeline"
      ],
      "metadata": {
        "id": "_EDjVHOyK5XH"
      },
      "execution_count": 4,
      "outputs": []
    },
    {
      "cell_type": "code",
      "source": [],
      "metadata": {
        "id": "S6aH4U61TG89"
      },
      "execution_count": 5,
      "outputs": []
    },
    {
      "cell_type": "code",
      "source": [
        "generator = pipeline('text-generation', model='gpt2')\n",
        "prompt = input(\"Enter a starting sentence: \")\n",
        "results = generator(prompt, max_length=100, num_return_sequences=3)"
      ],
      "metadata": {
        "id": "y_gxNpi0KouP",
        "colab": {
          "base_uri": "https://localhost:8080/"
        },
        "outputId": "cff3b7b7-e3fb-4918-87de-643bf5448064"
      },
      "execution_count": 8,
      "outputs": [
        {
          "output_type": "stream",
          "name": "stderr",
          "text": [
            "Device set to use cuda:0\n"
          ]
        },
        {
          "name": "stdout",
          "output_type": "stream",
          "text": [
            "Enter a starting sentence: Once upon a time there was a story told to every royal member of magic exists and they believed that but that's not real magic doesn't exist but why everyone believes that \n"
          ]
        },
        {
          "output_type": "stream",
          "name": "stderr",
          "text": [
            "Truncation was not explicitly activated but `max_length` is provided a specific value, please use `truncation=True` to explicitly truncate examples to max length. Defaulting to 'longest_first' truncation strategy. If you encode pairs of sequences (GLUE-style) with the tokenizer you can select this strategy more precisely by providing a specific strategy to `truncation`.\n",
            "Setting `pad_token_id` to `eos_token_id`:50256 for open-end generation.\n",
            "Both `max_new_tokens` (=256) and `max_length`(=100) seem to have been set. `max_new_tokens` will take precedence. Please refer to the documentation for more information. (https://huggingface.co/docs/transformers/main/en/main_classes/text_generation)\n"
          ]
        }
      ]
    },
    {
      "cell_type": "code",
      "source": [
        "for i, story in enumerate(results):\n",
        "    print(f\"\\nOption {i+1}:\\n{story['generated_text']}\")"
      ],
      "metadata": {
        "id": "QWO6Dde2LAoA",
        "colab": {
          "base_uri": "https://localhost:8080/"
        },
        "outputId": "d0b3b805-efd0-48f0-d9af-b56b0177a49f"
      },
      "execution_count": 6,
      "outputs": [
        {
          "output_type": "stream",
          "name": "stdout",
          "text": [
            "\n",
            "Option 1:\n",
            "Once upon a time there was a rumour that says magic exists but it's impossible but why everyone believes it  is real is beyond me.\n",
            "One of the biggest problems with magic is that it doesn't seem to really work. I'm not saying it's not working but I'm not saying it doesn't work. The magic system has already been completely erased and people's minds are just as dead. No one can actually think of anything that's real - no one can even think of anything that's not real. It's like no one has any idea what's real and it's like no one can even feel it.\n",
            "So let's think for a second about this. There's a spell-casting spell that you can cast on yourself. This spell is called magic. It's kind of like a magic spell. You can use it in a different way than you can in a traditional spell. You can cast it on yourself, it's a bit of a magic, but there's no problem doing so.\n",
            "So it's this spell that you can use to cast spells. And this spell is called magic. It's like magic that you can use to cast magic on yourself. You can cast it on yourself and it's a bit of a magic, but there's no problem doing so.\n",
            "So magic is just like magic. It's like magic that you\n",
            "\n",
            "Option 2:\n",
            "Once upon a time there was a rumour that says magic exists but it's impossible but why everyone believes it \"\n",
            "\n",
            "It was the second time that it had been said that magic exists, it was the second time that it had been said that magic exists but it's impossible but why everyone believes it?\" \"You guys have all a bad day. I'll be back on here later. Please take care of yourselves.\"\n",
            "\n",
            "\"I'm sorry.\"\n",
            "\n",
            "\"I'll be back soon.\"\n",
            "\n",
            "\"Goodnight, all the best.\"\n",
            "\n",
            "(TL: 1st person is always right)\n",
            "\n",
            "Chapter 10\n",
            "\n",
            "Chapter 11\n",
            "\n",
            "Chapter 12\n",
            "\n",
            "Chapter 13\n",
            "\n",
            "Aang was relieved when he saw the three of them, and was quickly returning to the mountain.\n",
            "\n",
            "\"The two of us have lost our minds. We're just here to stay, we're not going to let a witch in here to take our place.\"\n",
            "\n",
            "\"We are going to keep them. I hope we're not going to let them take this place, we don't deserve to be here.\"\n",
            "\n",
            "\"You're right. We've never been here before.\"\n",
            "\n",
            "\"I see. You're right, it's a bit of an exaggeration. There's no way I could live with people like you. I'm going to die alone.\"\n",
            "\n",
            "Option 3:\n",
            "Once upon a time there was a rumour that says magic exists but it's impossible but why everyone believes it  is a delusion.\n",
            "In fact the reason that wizards can see, hear and touch all of the other entities is because magic is so ubiquitous that people can even find other people who can see them. The magic that exists in the human brain is because the world has to be so much different, and people have to learn to deal with the complexities of such an environment. The magic that exists in the brain is because things and people can interact with it in such a way that we can have a sense of what it is like and how it is different from everything else.\n",
            "When I was a kid I would go to a magic convention in New York and I was treated to a very special place – a secret room for people to meet. It was like a secret school. The girls would tell me how they'd seen a wizard's face and the boys would tell me how they'd seen a person's face and the girls would tell me how they'd seen a dragon. The first time we met I was in the room and I was like, \"Oh, I can see you.\" And the next time I was there I was like, \"Oh, I can see you.\" They would always tell me to check my brain and see if it's a wizard's brain\n"
          ]
        }
      ]
    }
  ]
}